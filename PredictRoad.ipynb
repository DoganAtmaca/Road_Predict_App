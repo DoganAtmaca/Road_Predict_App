{
 "cells": [
  {
   "cell_type": "markdown",
   "id": "097ec2f0-ac6f-4b5b-a966-8646e11f777e",
   "metadata": {},
   "source": [
    "BU PROJEDE YOLLARIN RİSK ORANINI TAHMİN ETMEYE ÇALIŞACAĞIZ."
   ]
  },
  {
   "cell_type": "code",
   "execution_count": 1,
   "id": "4c4172ef-841c-497c-965a-26793e2effde",
   "metadata": {},
   "outputs": [],
   "source": [
    "import pandas as pd\n",
    "import warnings\n",
    "import matplotlib.pyplot as plt\n",
    "from sklearn.model_selection import KFold\n",
    "import numpy as np\n",
    "\n",
    "warnings.filterwarnings('ignore')"
   ]
  },
  {
   "cell_type": "code",
   "execution_count": 2,
   "id": "79ecb30f-e6da-4b75-9927-6580a658cca9",
   "metadata": {},
   "outputs": [],
   "source": [
    "df_train = pd.read_csv('train.csv')\n",
    "df_test = pd.read_csv('test.csv')"
   ]
  },
  {
   "cell_type": "code",
   "execution_count": 3,
   "id": "de8868d0-3420-45fc-a859-9e9c3023270d",
   "metadata": {},
   "outputs": [
    {
     "data": {
      "text/html": [
       "<div>\n",
       "<style scoped>\n",
       "    .dataframe tbody tr th:only-of-type {\n",
       "        vertical-align: middle;\n",
       "    }\n",
       "\n",
       "    .dataframe tbody tr th {\n",
       "        vertical-align: top;\n",
       "    }\n",
       "\n",
       "    .dataframe thead th {\n",
       "        text-align: right;\n",
       "    }\n",
       "</style>\n",
       "<table border=\"1\" class=\"dataframe\">\n",
       "  <thead>\n",
       "    <tr style=\"text-align: right;\">\n",
       "      <th></th>\n",
       "      <th>id</th>\n",
       "      <th>road_type</th>\n",
       "      <th>num_lanes</th>\n",
       "      <th>curvature</th>\n",
       "      <th>speed_limit</th>\n",
       "      <th>lighting</th>\n",
       "      <th>weather</th>\n",
       "      <th>road_signs_present</th>\n",
       "      <th>public_road</th>\n",
       "      <th>time_of_day</th>\n",
       "      <th>holiday</th>\n",
       "      <th>school_season</th>\n",
       "      <th>num_reported_accidents</th>\n",
       "      <th>accident_risk</th>\n",
       "    </tr>\n",
       "  </thead>\n",
       "  <tbody>\n",
       "    <tr>\n",
       "      <th>0</th>\n",
       "      <td>0</td>\n",
       "      <td>urban</td>\n",
       "      <td>2</td>\n",
       "      <td>0.06</td>\n",
       "      <td>35</td>\n",
       "      <td>daylight</td>\n",
       "      <td>rainy</td>\n",
       "      <td>False</td>\n",
       "      <td>True</td>\n",
       "      <td>afternoon</td>\n",
       "      <td>False</td>\n",
       "      <td>True</td>\n",
       "      <td>1</td>\n",
       "      <td>0.13</td>\n",
       "    </tr>\n",
       "    <tr>\n",
       "      <th>1</th>\n",
       "      <td>1</td>\n",
       "      <td>urban</td>\n",
       "      <td>4</td>\n",
       "      <td>0.99</td>\n",
       "      <td>35</td>\n",
       "      <td>daylight</td>\n",
       "      <td>clear</td>\n",
       "      <td>True</td>\n",
       "      <td>False</td>\n",
       "      <td>evening</td>\n",
       "      <td>True</td>\n",
       "      <td>True</td>\n",
       "      <td>0</td>\n",
       "      <td>0.35</td>\n",
       "    </tr>\n",
       "    <tr>\n",
       "      <th>2</th>\n",
       "      <td>2</td>\n",
       "      <td>rural</td>\n",
       "      <td>4</td>\n",
       "      <td>0.63</td>\n",
       "      <td>70</td>\n",
       "      <td>dim</td>\n",
       "      <td>clear</td>\n",
       "      <td>False</td>\n",
       "      <td>True</td>\n",
       "      <td>morning</td>\n",
       "      <td>True</td>\n",
       "      <td>False</td>\n",
       "      <td>2</td>\n",
       "      <td>0.30</td>\n",
       "    </tr>\n",
       "    <tr>\n",
       "      <th>3</th>\n",
       "      <td>3</td>\n",
       "      <td>highway</td>\n",
       "      <td>4</td>\n",
       "      <td>0.07</td>\n",
       "      <td>35</td>\n",
       "      <td>dim</td>\n",
       "      <td>rainy</td>\n",
       "      <td>True</td>\n",
       "      <td>True</td>\n",
       "      <td>morning</td>\n",
       "      <td>False</td>\n",
       "      <td>False</td>\n",
       "      <td>1</td>\n",
       "      <td>0.21</td>\n",
       "    </tr>\n",
       "    <tr>\n",
       "      <th>4</th>\n",
       "      <td>4</td>\n",
       "      <td>rural</td>\n",
       "      <td>1</td>\n",
       "      <td>0.58</td>\n",
       "      <td>60</td>\n",
       "      <td>daylight</td>\n",
       "      <td>foggy</td>\n",
       "      <td>False</td>\n",
       "      <td>False</td>\n",
       "      <td>evening</td>\n",
       "      <td>True</td>\n",
       "      <td>False</td>\n",
       "      <td>1</td>\n",
       "      <td>0.56</td>\n",
       "    </tr>\n",
       "  </tbody>\n",
       "</table>\n",
       "</div>"
      ],
      "text/plain": [
       "   id road_type  num_lanes  curvature  speed_limit  lighting weather  \\\n",
       "0   0     urban          2       0.06           35  daylight   rainy   \n",
       "1   1     urban          4       0.99           35  daylight   clear   \n",
       "2   2     rural          4       0.63           70       dim   clear   \n",
       "3   3   highway          4       0.07           35       dim   rainy   \n",
       "4   4     rural          1       0.58           60  daylight   foggy   \n",
       "\n",
       "   road_signs_present  public_road time_of_day  holiday  school_season  \\\n",
       "0               False         True   afternoon    False           True   \n",
       "1                True        False     evening     True           True   \n",
       "2               False         True     morning     True          False   \n",
       "3                True         True     morning    False          False   \n",
       "4               False        False     evening     True          False   \n",
       "\n",
       "   num_reported_accidents  accident_risk  \n",
       "0                       1           0.13  \n",
       "1                       0           0.35  \n",
       "2                       2           0.30  \n",
       "3                       1           0.21  \n",
       "4                       1           0.56  "
      ]
     },
     "execution_count": 3,
     "metadata": {},
     "output_type": "execute_result"
    }
   ],
   "source": [
    "df_train.head()"
   ]
  },
  {
   "cell_type": "code",
   "execution_count": 4,
   "id": "16fd7e3f-979a-4d01-bbfa-2207c7991c07",
   "metadata": {},
   "outputs": [
    {
     "data": {
      "text/html": [
       "<div>\n",
       "<style scoped>\n",
       "    .dataframe tbody tr th:only-of-type {\n",
       "        vertical-align: middle;\n",
       "    }\n",
       "\n",
       "    .dataframe tbody tr th {\n",
       "        vertical-align: top;\n",
       "    }\n",
       "\n",
       "    .dataframe thead th {\n",
       "        text-align: right;\n",
       "    }\n",
       "</style>\n",
       "<table border=\"1\" class=\"dataframe\">\n",
       "  <thead>\n",
       "    <tr style=\"text-align: right;\">\n",
       "      <th></th>\n",
       "      <th>id</th>\n",
       "      <th>road_type</th>\n",
       "      <th>num_lanes</th>\n",
       "      <th>curvature</th>\n",
       "      <th>speed_limit</th>\n",
       "      <th>lighting</th>\n",
       "      <th>weather</th>\n",
       "      <th>road_signs_present</th>\n",
       "      <th>public_road</th>\n",
       "      <th>time_of_day</th>\n",
       "      <th>holiday</th>\n",
       "      <th>school_season</th>\n",
       "      <th>num_reported_accidents</th>\n",
       "    </tr>\n",
       "  </thead>\n",
       "  <tbody>\n",
       "    <tr>\n",
       "      <th>0</th>\n",
       "      <td>517754</td>\n",
       "      <td>highway</td>\n",
       "      <td>2</td>\n",
       "      <td>0.34</td>\n",
       "      <td>45</td>\n",
       "      <td>night</td>\n",
       "      <td>clear</td>\n",
       "      <td>True</td>\n",
       "      <td>True</td>\n",
       "      <td>afternoon</td>\n",
       "      <td>True</td>\n",
       "      <td>True</td>\n",
       "      <td>1</td>\n",
       "    </tr>\n",
       "    <tr>\n",
       "      <th>1</th>\n",
       "      <td>517755</td>\n",
       "      <td>urban</td>\n",
       "      <td>3</td>\n",
       "      <td>0.04</td>\n",
       "      <td>45</td>\n",
       "      <td>dim</td>\n",
       "      <td>foggy</td>\n",
       "      <td>True</td>\n",
       "      <td>False</td>\n",
       "      <td>afternoon</td>\n",
       "      <td>True</td>\n",
       "      <td>False</td>\n",
       "      <td>0</td>\n",
       "    </tr>\n",
       "    <tr>\n",
       "      <th>2</th>\n",
       "      <td>517756</td>\n",
       "      <td>urban</td>\n",
       "      <td>2</td>\n",
       "      <td>0.59</td>\n",
       "      <td>35</td>\n",
       "      <td>dim</td>\n",
       "      <td>clear</td>\n",
       "      <td>True</td>\n",
       "      <td>False</td>\n",
       "      <td>afternoon</td>\n",
       "      <td>True</td>\n",
       "      <td>True</td>\n",
       "      <td>1</td>\n",
       "    </tr>\n",
       "    <tr>\n",
       "      <th>3</th>\n",
       "      <td>517757</td>\n",
       "      <td>rural</td>\n",
       "      <td>4</td>\n",
       "      <td>0.95</td>\n",
       "      <td>35</td>\n",
       "      <td>daylight</td>\n",
       "      <td>rainy</td>\n",
       "      <td>False</td>\n",
       "      <td>False</td>\n",
       "      <td>afternoon</td>\n",
       "      <td>False</td>\n",
       "      <td>False</td>\n",
       "      <td>2</td>\n",
       "    </tr>\n",
       "    <tr>\n",
       "      <th>4</th>\n",
       "      <td>517758</td>\n",
       "      <td>highway</td>\n",
       "      <td>2</td>\n",
       "      <td>0.86</td>\n",
       "      <td>35</td>\n",
       "      <td>daylight</td>\n",
       "      <td>clear</td>\n",
       "      <td>True</td>\n",
       "      <td>False</td>\n",
       "      <td>evening</td>\n",
       "      <td>False</td>\n",
       "      <td>True</td>\n",
       "      <td>3</td>\n",
       "    </tr>\n",
       "  </tbody>\n",
       "</table>\n",
       "</div>"
      ],
      "text/plain": [
       "       id road_type  num_lanes  curvature  speed_limit  lighting weather  \\\n",
       "0  517754   highway          2       0.34           45     night   clear   \n",
       "1  517755     urban          3       0.04           45       dim   foggy   \n",
       "2  517756     urban          2       0.59           35       dim   clear   \n",
       "3  517757     rural          4       0.95           35  daylight   rainy   \n",
       "4  517758   highway          2       0.86           35  daylight   clear   \n",
       "\n",
       "   road_signs_present  public_road time_of_day  holiday  school_season  \\\n",
       "0                True         True   afternoon     True           True   \n",
       "1                True        False   afternoon     True          False   \n",
       "2                True        False   afternoon     True           True   \n",
       "3               False        False   afternoon    False          False   \n",
       "4                True        False     evening    False           True   \n",
       "\n",
       "   num_reported_accidents  \n",
       "0                       1  \n",
       "1                       0  \n",
       "2                       1  \n",
       "3                       2  \n",
       "4                       3  "
      ]
     },
     "execution_count": 4,
     "metadata": {},
     "output_type": "execute_result"
    }
   ],
   "source": [
    "df_test.head()"
   ]
  },
  {
   "cell_type": "code",
   "execution_count": 5,
   "id": "1abae280-f6e8-4a3e-af7f-411601ea8b42",
   "metadata": {},
   "outputs": [],
   "source": [
    "sözlük = {True:1,\n",
    "         False:0}"
   ]
  },
  {
   "cell_type": "code",
   "execution_count": 6,
   "id": "e7df4f40-0ca8-401d-85e9-6fc4bbe86024",
   "metadata": {},
   "outputs": [],
   "source": [
    "df_train['road_signs_present'] = df_train['road_signs_present'].map(sözlük)\n",
    "df_train['public_road'] = df_train['public_road'].map(sözlük)\n",
    "df_train['holiday'] = df_train['holiday'].map(sözlük)\n",
    "df_train['school_season'] = df_train['school_season'].map(sözlük)"
   ]
  },
  {
   "cell_type": "code",
   "execution_count": 7,
   "id": "a991e267-496d-496d-819c-d193c4a46dbc",
   "metadata": {},
   "outputs": [
    {
     "data": {
      "text/html": [
       "<div>\n",
       "<style scoped>\n",
       "    .dataframe tbody tr th:only-of-type {\n",
       "        vertical-align: middle;\n",
       "    }\n",
       "\n",
       "    .dataframe tbody tr th {\n",
       "        vertical-align: top;\n",
       "    }\n",
       "\n",
       "    .dataframe thead th {\n",
       "        text-align: right;\n",
       "    }\n",
       "</style>\n",
       "<table border=\"1\" class=\"dataframe\">\n",
       "  <thead>\n",
       "    <tr style=\"text-align: right;\">\n",
       "      <th></th>\n",
       "      <th>id</th>\n",
       "      <th>road_type</th>\n",
       "      <th>num_lanes</th>\n",
       "      <th>curvature</th>\n",
       "      <th>speed_limit</th>\n",
       "      <th>lighting</th>\n",
       "      <th>weather</th>\n",
       "      <th>road_signs_present</th>\n",
       "      <th>public_road</th>\n",
       "      <th>time_of_day</th>\n",
       "      <th>holiday</th>\n",
       "      <th>school_season</th>\n",
       "      <th>num_reported_accidents</th>\n",
       "      <th>accident_risk</th>\n",
       "    </tr>\n",
       "  </thead>\n",
       "  <tbody>\n",
       "    <tr>\n",
       "      <th>0</th>\n",
       "      <td>0</td>\n",
       "      <td>urban</td>\n",
       "      <td>2</td>\n",
       "      <td>0.06</td>\n",
       "      <td>35</td>\n",
       "      <td>daylight</td>\n",
       "      <td>rainy</td>\n",
       "      <td>0</td>\n",
       "      <td>1</td>\n",
       "      <td>afternoon</td>\n",
       "      <td>0</td>\n",
       "      <td>1</td>\n",
       "      <td>1</td>\n",
       "      <td>0.13</td>\n",
       "    </tr>\n",
       "    <tr>\n",
       "      <th>1</th>\n",
       "      <td>1</td>\n",
       "      <td>urban</td>\n",
       "      <td>4</td>\n",
       "      <td>0.99</td>\n",
       "      <td>35</td>\n",
       "      <td>daylight</td>\n",
       "      <td>clear</td>\n",
       "      <td>1</td>\n",
       "      <td>0</td>\n",
       "      <td>evening</td>\n",
       "      <td>1</td>\n",
       "      <td>1</td>\n",
       "      <td>0</td>\n",
       "      <td>0.35</td>\n",
       "    </tr>\n",
       "    <tr>\n",
       "      <th>2</th>\n",
       "      <td>2</td>\n",
       "      <td>rural</td>\n",
       "      <td>4</td>\n",
       "      <td>0.63</td>\n",
       "      <td>70</td>\n",
       "      <td>dim</td>\n",
       "      <td>clear</td>\n",
       "      <td>0</td>\n",
       "      <td>1</td>\n",
       "      <td>morning</td>\n",
       "      <td>1</td>\n",
       "      <td>0</td>\n",
       "      <td>2</td>\n",
       "      <td>0.30</td>\n",
       "    </tr>\n",
       "    <tr>\n",
       "      <th>3</th>\n",
       "      <td>3</td>\n",
       "      <td>highway</td>\n",
       "      <td>4</td>\n",
       "      <td>0.07</td>\n",
       "      <td>35</td>\n",
       "      <td>dim</td>\n",
       "      <td>rainy</td>\n",
       "      <td>1</td>\n",
       "      <td>1</td>\n",
       "      <td>morning</td>\n",
       "      <td>0</td>\n",
       "      <td>0</td>\n",
       "      <td>1</td>\n",
       "      <td>0.21</td>\n",
       "    </tr>\n",
       "    <tr>\n",
       "      <th>4</th>\n",
       "      <td>4</td>\n",
       "      <td>rural</td>\n",
       "      <td>1</td>\n",
       "      <td>0.58</td>\n",
       "      <td>60</td>\n",
       "      <td>daylight</td>\n",
       "      <td>foggy</td>\n",
       "      <td>0</td>\n",
       "      <td>0</td>\n",
       "      <td>evening</td>\n",
       "      <td>1</td>\n",
       "      <td>0</td>\n",
       "      <td>1</td>\n",
       "      <td>0.56</td>\n",
       "    </tr>\n",
       "  </tbody>\n",
       "</table>\n",
       "</div>"
      ],
      "text/plain": [
       "   id road_type  num_lanes  curvature  speed_limit  lighting weather  \\\n",
       "0   0     urban          2       0.06           35  daylight   rainy   \n",
       "1   1     urban          4       0.99           35  daylight   clear   \n",
       "2   2     rural          4       0.63           70       dim   clear   \n",
       "3   3   highway          4       0.07           35       dim   rainy   \n",
       "4   4     rural          1       0.58           60  daylight   foggy   \n",
       "\n",
       "   road_signs_present  public_road time_of_day  holiday  school_season  \\\n",
       "0                   0            1   afternoon        0              1   \n",
       "1                   1            0     evening        1              1   \n",
       "2                   0            1     morning        1              0   \n",
       "3                   1            1     morning        0              0   \n",
       "4                   0            0     evening        1              0   \n",
       "\n",
       "   num_reported_accidents  accident_risk  \n",
       "0                       1           0.13  \n",
       "1                       0           0.35  \n",
       "2                       2           0.30  \n",
       "3                       1           0.21  \n",
       "4                       1           0.56  "
      ]
     },
     "execution_count": 7,
     "metadata": {},
     "output_type": "execute_result"
    }
   ],
   "source": [
    "df_train.head()"
   ]
  },
  {
   "cell_type": "code",
   "execution_count": 8,
   "id": "313a570c-700b-4908-81a1-0a79a9161b27",
   "metadata": {},
   "outputs": [
    {
     "data": {
      "text/plain": [
       "45    115752\n",
       "35    111628\n",
       "25    101422\n",
       "60    100304\n",
       "70     88648\n",
       "Name: speed_limit, dtype: int64"
      ]
     },
     "execution_count": 8,
     "metadata": {},
     "output_type": "execute_result"
    }
   ],
   "source": [
    "df_train['speed_limit'].value_counts()"
   ]
  },
  {
   "cell_type": "code",
   "execution_count": 9,
   "id": "bf5158a4-62c2-446f-acda-083b6698fc29",
   "metadata": {},
   "outputs": [],
   "source": [
    "#Yeni sütunda hız sınırı 50'den büyük olanlara 1 küçük olanlara 0 yazdık\n",
    "df_train['Speed_limit_flag'] = (df_train['speed_limit']>50).astype(int)"
   ]
  },
  {
   "cell_type": "code",
   "execution_count": 10,
   "id": "db3822aa-6035-4100-9625-48db52f27714",
   "metadata": {},
   "outputs": [
    {
     "data": {
      "text/plain": [
       "count    517754.000000\n",
       "mean          0.488719\n",
       "std           0.272563\n",
       "min           0.000000\n",
       "25%           0.260000\n",
       "50%           0.510000\n",
       "75%           0.710000\n",
       "max           1.000000\n",
       "Name: curvature, dtype: float64"
      ]
     },
     "execution_count": 10,
     "metadata": {},
     "output_type": "execute_result"
    }
   ],
   "source": [
    "df_train['curvature'].describe()"
   ]
  },
  {
   "cell_type": "code",
   "execution_count": 11,
   "id": "fb900133-62a8-41f1-bd9b-ba72c57a0e4c",
   "metadata": {},
   "outputs": [],
   "source": [
    "#Eğimi 0.50 den büyük olanlara 1 küçük olanlara 0 yazdık.\n",
    "df_train['curvature_limit_flag'] = (df_train['curvature']>0.5).astype(int)"
   ]
  },
  {
   "cell_type": "code",
   "execution_count": 12,
   "id": "9b02371a-4c37-45f9-8406-aa4f6b84e997",
   "metadata": {},
   "outputs": [
    {
     "name": "stdout",
     "output_type": "stream",
     "text": [
      "<class 'pandas.core.frame.DataFrame'>\n",
      "RangeIndex: 517754 entries, 0 to 517753\n",
      "Data columns (total 16 columns):\n",
      " #   Column                  Non-Null Count   Dtype  \n",
      "---  ------                  --------------   -----  \n",
      " 0   id                      517754 non-null  int64  \n",
      " 1   road_type               517754 non-null  object \n",
      " 2   num_lanes               517754 non-null  int64  \n",
      " 3   curvature               517754 non-null  float64\n",
      " 4   speed_limit             517754 non-null  int64  \n",
      " 5   lighting                517754 non-null  object \n",
      " 6   weather                 517754 non-null  object \n",
      " 7   road_signs_present      517754 non-null  int64  \n",
      " 8   public_road             517754 non-null  int64  \n",
      " 9   time_of_day             517754 non-null  object \n",
      " 10  holiday                 517754 non-null  int64  \n",
      " 11  school_season           517754 non-null  int64  \n",
      " 12  num_reported_accidents  517754 non-null  int64  \n",
      " 13  accident_risk           517754 non-null  float64\n",
      " 14  Speed_limit_flag        517754 non-null  int32  \n",
      " 15  curvature_limit_flag    517754 non-null  int32  \n",
      "dtypes: float64(2), int32(2), int64(8), object(4)\n",
      "memory usage: 59.3+ MB\n"
     ]
    }
   ],
   "source": [
    "df_train.info()"
   ]
  },
  {
   "cell_type": "code",
   "execution_count": 13,
   "id": "f5681534-539b-4838-bd68-ef2c6d24611b",
   "metadata": {},
   "outputs": [
    {
     "data": {
      "text/plain": [
       "accident_risk             1.000000\n",
       "curvature                 0.543946\n",
       "curvature_limit_flag      0.516083\n",
       "Speed_limit_flag          0.487876\n",
       "speed_limit               0.430898\n",
       "num_reported_accidents    0.213891\n",
       "holiday                   0.051129\n",
       "public_road               0.031032\n",
       "id                        0.000969\n",
       "road_signs_present        0.000629\n",
       "school_season            -0.000977\n",
       "num_lanes                -0.006003\n",
       "Name: accident_risk, dtype: float64"
      ]
     },
     "execution_count": 13,
     "metadata": {},
     "output_type": "execute_result"
    }
   ],
   "source": [
    "df_train.corr()['accident_risk'].sort_values(ascending=False)"
   ]
  },
  {
   "cell_type": "code",
   "execution_count": 14,
   "id": "dafe2486-404a-4cab-b446-a0c54aec0b56",
   "metadata": {},
   "outputs": [],
   "source": [
    "df_train['num_reported_accidents'] = df_train['num_reported_accidents']**3"
   ]
  },
  {
   "cell_type": "code",
   "execution_count": 15,
   "id": "23420603-db55-4719-9b7a-6029956caba8",
   "metadata": {},
   "outputs": [],
   "source": [
    "df_train['accident_num_lanes'] = df_train['num_reported_accidents'] * df_train['num_lanes']\n",
    "df_train['curvature_speed'] = df_train['curvature'] * df_train['speed_limit']\n",
    "df_train['curvature_accidents'] = df_train['curvature'] * df_train['num_reported_accidents']"
   ]
  },
  {
   "cell_type": "code",
   "execution_count": 16,
   "id": "7750d799-f3e6-43a2-86cc-a3dd9e5dd989",
   "metadata": {},
   "outputs": [
    {
     "data": {
      "text/plain": [
       "accident_risk             1.000000\n",
       "curvature_speed           0.675621\n",
       "curvature                 0.543946\n",
       "curvature_limit_flag      0.516083\n",
       "Speed_limit_flag          0.487876\n",
       "speed_limit               0.430898\n",
       "curvature_accidents       0.395320\n",
       "num_reported_accidents    0.309962\n",
       "accident_num_lanes        0.275388\n",
       "holiday                   0.051129\n",
       "public_road               0.031032\n",
       "id                        0.000969\n",
       "road_signs_present        0.000629\n",
       "school_season            -0.000977\n",
       "num_lanes                -0.006003\n",
       "Name: accident_risk, dtype: float64"
      ]
     },
     "execution_count": 16,
     "metadata": {},
     "output_type": "execute_result"
    }
   ],
   "source": [
    "df_train.corr()['accident_risk'].sort_values(ascending=False)"
   ]
  },
  {
   "cell_type": "code",
   "execution_count": 17,
   "id": "7d9f06c7-a484-44ac-b08e-241842cae87d",
   "metadata": {},
   "outputs": [],
   "source": [
    "x2 = df_train.drop(['id','accident_risk'],axis=1)\n",
    "y = df_train[['accident_risk']]"
   ]
  },
  {
   "cell_type": "code",
   "execution_count": 18,
   "id": "e8804d75-fab5-4540-ae4d-a3818e57bad5",
   "metadata": {},
   "outputs": [],
   "source": [
    "x1 =pd.get_dummies(x2)"
   ]
  },
  {
   "cell_type": "code",
   "execution_count": 19,
   "id": "1269ceab-a9ee-4a39-af8f-c61474811f88",
   "metadata": {},
   "outputs": [],
   "source": [
    "from xgboost import XGBRegressor\n",
    "from sklearn.preprocessing import StandardScaler\n",
    "from sklearn.preprocessing import MinMaxScaler\n",
    "from sklearn.model_selection import train_test_split\n",
    "from sklearn.metrics import mean_squared_error,r2_score,mean_absolute_error"
   ]
  },
  {
   "cell_type": "code",
   "execution_count": 20,
   "id": "6523c10b-8500-4275-99f1-a33f6155865b",
   "metadata": {},
   "outputs": [],
   "source": [
    "x=MinMaxScaler().fit_transform(x1)"
   ]
  },
  {
   "cell_type": "code",
   "execution_count": 21,
   "id": "e5049028-2129-468b-8d2f-a8a4250d7920",
   "metadata": {},
   "outputs": [],
   "source": [
    "x_train, x_test, y_train, y_test=train_test_split(x,y,test_size=.10,random_state=42)"
   ]
  },
  {
   "cell_type": "code",
   "execution_count": 22,
   "id": "5d800f23-9e80-455d-8810-b8152a70f8a9",
   "metadata": {},
   "outputs": [
    {
     "data": {
      "text/plain": [
       "0.05614278965832049"
      ]
     },
     "execution_count": 22,
     "metadata": {},
     "output_type": "execute_result"
    }
   ],
   "source": [
    "#BURADA BAŞARI ORANIMIZI GÖRMEK İÇİ SADECE TRAİN VERİ SETİ ÜZERİNDE ÇALIŞIP RMSE SKORUNU KONTROL EDİYORUZ.\n",
    "xgb=XGBRegressor()\n",
    "model = xgb.fit(x_train,y_train)\n",
    "tahmin = model.predict(x_test)\n",
    "mean_squared_error(y_test,tahmin)**.5"
   ]
  },
  {
   "cell_type": "code",
   "execution_count": 23,
   "id": "e056f60d-3026-4a80-ba33-aea72feed849",
   "metadata": {},
   "outputs": [],
   "source": [
    "#TEST VERİSİNİ UYUGUN HALE GETİRİYORUZ.\n",
    "df_test['Speed_limit_flag'] = (df_test['speed_limit']>50).astype(int)\n",
    "df_test['curvature_limit_flag'] = (df_test['curvature']>0.5).astype(int)\n",
    "df_test['num_reported_accidents'] = df_test['num_reported_accidents']**3\n",
    "df_test['accident_num_lanes'] = df_test['num_reported_accidents'] * df_test['num_lanes']\n",
    "df_test['curvature_speed'] = df_test['curvature'] * df_test['speed_limit']\n",
    "df_test['curvature_accidents'] = df_test['curvature'] * df_test['num_reported_accidents']\n",
    "test_x = df_test.drop(['id'],axis=1)\n",
    "test_x2 = pd.get_dummies(test_x)\n",
    "test_x3=MinMaxScaler().fit_transform(test_x2)\n"
   ]
  },
  {
   "cell_type": "code",
   "execution_count": 24,
   "id": "d2739f93-e577-4f8f-b0d1-cd15ad6c66ef",
   "metadata": {},
   "outputs": [],
   "source": [
    "#YUKARIDA TRAİN VERİ SETİ İLE YAPTIĞIMIZ TESTTE 0.056 RMSE SKOR ELDE ETTİK. BU İYİ BİR SONUÇ BU YÜZDEN MODELİ TRAİN TEST SPLİT İLE AYIRMADAN\n",
    "#SADECE DF_TRAİN İLE EĞİTİP DF_TEST İLE TAHMİN SONUÇLARINI YAZDIRACAĞIZ. SONUÇLARI KAGGLE A YÜKLEYİM BAŞARI ORANIMIZI ORADAN GÖRECEĞİZ.\n",
    "#BURADA MODELİ X VE Y İLE EĞİTİYORUZ. BU X_TRAİN VE Y_TRAİN YAPILMAMIŞ HALİ.\n",
    "xgb=XGBRegressor()\n",
    "kaggle_model = xgb.fit(x,y)\n",
    "tahmin=kaggle_model.predict(test_x3)"
   ]
  },
  {
   "cell_type": "code",
   "execution_count": 25,
   "id": "b9f24002-fb92-4ac7-8bdb-fd00fad9772a",
   "metadata": {},
   "outputs": [],
   "source": [
    "#SONUÇLARI BOŞ BİR DATA FRAMEYE YAZDIRIM CSV OLARAK KAYDEDECEĞİZ.\n",
    "new_data = pd.DataFrame()"
   ]
  },
  {
   "cell_type": "code",
   "execution_count": 26,
   "id": "620dc5ab-7dcc-423a-9af0-567d1e3569e4",
   "metadata": {},
   "outputs": [],
   "source": [
    "new_data.index = df_test['id']"
   ]
  },
  {
   "cell_type": "code",
   "execution_count": 27,
   "id": "2dafb6aa-d09a-4d7f-a8b1-fecae6a51ce3",
   "metadata": {},
   "outputs": [],
   "source": [
    "new_data['accident_risk'] = tahmin"
   ]
  },
  {
   "cell_type": "code",
   "execution_count": 28,
   "id": "c82ce46c-b9ba-4c16-8601-dcee1b71f63d",
   "metadata": {},
   "outputs": [
    {
     "data": {
      "text/html": [
       "<div>\n",
       "<style scoped>\n",
       "    .dataframe tbody tr th:only-of-type {\n",
       "        vertical-align: middle;\n",
       "    }\n",
       "\n",
       "    .dataframe tbody tr th {\n",
       "        vertical-align: top;\n",
       "    }\n",
       "\n",
       "    .dataframe thead th {\n",
       "        text-align: right;\n",
       "    }\n",
       "</style>\n",
       "<table border=\"1\" class=\"dataframe\">\n",
       "  <thead>\n",
       "    <tr style=\"text-align: right;\">\n",
       "      <th></th>\n",
       "      <th>accident_risk</th>\n",
       "    </tr>\n",
       "    <tr>\n",
       "      <th>id</th>\n",
       "      <th></th>\n",
       "    </tr>\n",
       "  </thead>\n",
       "  <tbody>\n",
       "    <tr>\n",
       "      <th>517754</th>\n",
       "      <td>0.290477</td>\n",
       "    </tr>\n",
       "    <tr>\n",
       "      <th>517755</th>\n",
       "      <td>0.122612</td>\n",
       "    </tr>\n",
       "    <tr>\n",
       "      <th>517756</th>\n",
       "      <td>0.171400</td>\n",
       "    </tr>\n",
       "    <tr>\n",
       "      <th>517757</th>\n",
       "      <td>0.307942</td>\n",
       "    </tr>\n",
       "    <tr>\n",
       "      <th>517758</th>\n",
       "      <td>0.409922</td>\n",
       "    </tr>\n",
       "  </tbody>\n",
       "</table>\n",
       "</div>"
      ],
      "text/plain": [
       "        accident_risk\n",
       "id                   \n",
       "517754       0.290477\n",
       "517755       0.122612\n",
       "517756       0.171400\n",
       "517757       0.307942\n",
       "517758       0.409922"
      ]
     },
     "execution_count": 28,
     "metadata": {},
     "output_type": "execute_result"
    }
   ],
   "source": [
    "new_data.head()"
   ]
  },
  {
   "cell_type": "code",
   "execution_count": 30,
   "id": "4bab11bf-f080-48c4-b35b-56daedd1b164",
   "metadata": {},
   "outputs": [],
   "source": [
    "new_data.to_csv('PlayGroundPredict.csv')"
   ]
  },
  {
   "cell_type": "code",
   "execution_count": 31,
   "id": "0915d7f9-7c07-4b7d-a2ab-332b363b4b22",
   "metadata": {},
   "outputs": [],
   "source": [
    "#MODELİMİZİ KAYDEDİYORUZ.\n",
    "import pickle\n",
    "\n",
    "# Modeli kaydetme\n",
    "with open(\"road_model.pkl\", \"wb\") as file:\n",
    "    pickle.dump(kaggle_model, file)"
   ]
  }
 ],
 "metadata": {
  "kernelspec": {
   "display_name": "Python 3 (ipykernel)",
   "language": "python",
   "name": "python3"
  },
  "language_info": {
   "codemirror_mode": {
    "name": "ipython",
    "version": 3
   },
   "file_extension": ".py",
   "mimetype": "text/x-python",
   "name": "python",
   "nbconvert_exporter": "python",
   "pygments_lexer": "ipython3",
   "version": "3.10.18"
  }
 },
 "nbformat": 4,
 "nbformat_minor": 5
}
